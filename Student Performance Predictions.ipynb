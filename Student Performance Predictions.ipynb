{
 "cells": [
  {
   "cell_type": "code",
   "execution_count": null,
   "id": "bdf09ad9-37f7-48d8-b7b8-15d6693d38db",
   "metadata": {},
   "outputs": [],
   "source": [
    "import pandas as pd\n",
    "import numpy as np"
   ]
  },
  {
   "cell_type": "raw",
   "id": "aae5026c-433d-4ab5-b75d-dbcf911f8995",
   "metadata": {},
   "source": [
    "#To upload the file"
   ]
  },
  {
   "cell_type": "code",
   "execution_count": null,
   "id": "78a98fe6-86b2-4652-980d-8b47095032c2",
   "metadata": {},
   "outputs": [],
   "source": [
    "df = pd.read_csv('/student_performance.csv')\n",
    "df.head()"
   ]
  },
  {
   "cell_type": "code",
   "execution_count": null,
   "id": "fa9f5753-a205-4ca2-bbb3-78f393b7033a",
   "metadata": {},
   "outputs": [],
   "source": [
    "df.info()"
   ]
  },
  {
   "cell_type": "code",
   "execution_count": null,
   "id": "db2be69a-55bb-49d9-a928-030b50945715",
   "metadata": {},
   "outputs": [],
   "source": [
    "df.isnull().sum()"
   ]
  },
  {
   "cell_type": "code",
   "execution_count": null,
   "id": "addd8dff-6cc9-42b5-ab83-93e55fe82faf",
   "metadata": {},
   "outputs": [],
   "source": [
    "Q1 = df.select_dtypes(include=[np.number]).quantile(0.25)\n",
    "Q3 = df.select_dtypes(include=[np.number]).quantile(0.75)\n",
    "IQR = Q3 - Q1\n",
    "outliers = ((df.select_dtypes(include=[np.number]) < (Q1 - 1.5 * IQR)) | \n",
    "            (df.select_dtypes(include=[np.number]) > (Q3 + 1.5 * IQR))).any(axis=1)\n",
    "outlier_rows = df[outliers]\n",
    "print(outlier_rows)"
   ]
  },
  {
   "cell_type": "code",
   "execution_count": null,
   "id": "2c0dfb20-7498-491f-8255-1372636232f4",
   "metadata": {},
   "outputs": [],
   "source": [
    "import matplotlib.pyplot as plt\n",
    "import seaborn as sns"
   ]
  },
  {
   "cell_type": "raw",
   "id": "4c2bfdd1-a1ab-4034-aee2-e84e59a25346",
   "metadata": {},
   "source": [
    "#Attendance Rate"
   ]
  },
  {
   "cell_type": "code",
   "execution_count": null,
   "id": "55859581-9fa4-438d-a83a-8b84a2e6b04b",
   "metadata": {},
   "outputs": [],
   "source": [
    "plt.figure(figsize=(8, 6))\n",
    "sns.barplot(x='Gender', y='AttendanceRate', data=df)\n",
    "plt.xlabel('Gender')\n",
    "plt.ylabel('Attendance Rate')\n",
    "plt.title('Attendance Rate by Gender')\n",
    "\n",
    "plt.show()"
   ]
  },
  {
   "cell_type": "raw",
   "id": "45817a60-a7a7-46cd-b68a-b2d2e5786fb8",
   "metadata": {},
   "source": [
    "#Final Grade vs. Study Hours\n"
   ]
  },
  {
   "cell_type": "code",
   "execution_count": null,
   "id": "c80ccf04-49a5-49b7-ac95-3888723c6c50",
   "metadata": {},
   "outputs": [],
   "source": [
    "plt.figure(figsize=(10, 6))\n",
    "sns.lineplot(x='StudyHoursPerWeek', y='FinalGrade', data=df, marker='o')\n",
    "\n",
    "plt.xlabel('Study Hours')\n",
    "plt.ylabel('Final Grade')\n",
    "plt.title('Final Grade vs. Study Hours')\n",
    "\n",
    "plt.show()"
   ]
  },
  {
   "cell_type": "raw",
   "id": "3daa1366-49af-4c3d-853a-fbe73909dad1",
   "metadata": {},
   "source": [
    "#student final grade based on ExtracurricularActivities"
   ]
  },
  {
   "cell_type": "code",
   "execution_count": null,
   "id": "795a1084-f76a-44d7-88cb-a0b38f6a1d2e",
   "metadata": {},
   "outputs": [],
   "source": [
    "plt.figure(figsize=(8, 6))\n",
    "sns.barplot(x='ExtracurricularActivities', y='FinalGrade', data=df)\n",
    "plt.xlabel('ExtracurricularActivities')\n",
    "plt.ylabel('Student final grade')\n",
    "plt.title(' student final grade based on ExtracurricularActivities')\n",
    "\n",
    "plt.show()"
   ]
  },
  {
   "cell_type": "code",
   "execution_count": null,
   "id": "2084fa66-76c1-479b-8742-a43b0bc1c7f8",
   "metadata": {},
   "outputs": [],
   "source": []
  },
  {
   "cell_type": "code",
   "execution_count": null,
   "id": "b848ccda-c85f-41a9-ba2b-214bad65fe5e",
   "metadata": {},
   "outputs": [],
   "source": []
  },
  {
   "cell_type": "code",
   "execution_count": null,
   "id": "17f0491f-3f1e-4705-bb84-fac4aace0801",
   "metadata": {},
   "outputs": [],
   "source": []
  }
 ],
 "metadata": {
  "kernelspec": {
   "display_name": "Python 3 (ipykernel)",
   "language": "python",
   "name": "python3"
  },
  "language_info": {
   "codemirror_mode": {
    "name": "ipython",
    "version": 3
   },
   "file_extension": ".py",
   "mimetype": "text/x-python",
   "name": "python",
   "nbconvert_exporter": "python",
   "pygments_lexer": "ipython3",
   "version": "3.12.4"
  }
 },
 "nbformat": 4,
 "nbformat_minor": 5
}
